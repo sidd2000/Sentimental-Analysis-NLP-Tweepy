{
 "cells": [
  {
   "cell_type": "code",
   "execution_count": 36,
   "metadata": {},
   "outputs": [],
   "source": [
    "import tweepy\n",
    "from nltk.tokenize import sent_tokenize\n",
    "from nltk.tokenize import word_tokenize\n",
    "from  nltk.stem import WordNetLemmatizer\n",
    "from  nltk.corpus   import  stopwords\n",
    "from textblob import TextBlob\n",
    "import matplotlib.pyplot as plt"
   ]
  },
  {
   "cell_type": "code",
   "execution_count": 37,
   "metadata": {},
   "outputs": [],
   "source": [
    "consumer_key=\"\"\n",
    "consumer_secret=\"\"\n",
    "access_key=\"\"\n",
    "access_secret=\"\""
   ]
  },
  {
   "cell_type": "code",
   "execution_count": 41,
   "metadata": {},
   "outputs": [],
   "source": [
    "def get_tweets(topic):\n",
    "    #authenticating twitter with consumer key and consumer  secret\n",
    "    auth=tweepy.OAuthHandler(consumer_key,consumer_secret)\n",
    "    #setting access token\n",
    "    auth.set_access_token(access_key,access_secret)\n",
    "    #connecting bssetting access tokenpi\n",
    "    api=tweepy.API(auth)\n",
    "    #number_of_tweets=50\n",
    "    tweets=api.search(q=topic,count=10,lang='en')\n",
    "    tmp=[]\n",
    "    polarity=[]\n",
    "    subjectivity=[]\n",
    "\n",
    "    tweets_for_csv=[tweet.text for tweet in tweets]\n",
    "    for j in tweets_for_csv:\n",
    "        tmp.append(j)\n",
    "    #print(\"Extracted tweets:\",tmp)\n",
    "    #print(\"####################################\")\n",
    "    \n",
    "    for j in tweets:\n",
    "        analize=TextBlob(j.text)\n",
    "        check=analize.sentiment\n",
    "        #print(check)\n",
    "        polarity.append(analize.sentiment[0])\n",
    "        subjectivity.append(analize.sentiment[1])\n",
    "        #lemmatization\n",
    "    #print(\"####################################\")\n",
    "    print(polarity)\n",
    "    print(subjectivity)\n",
    "    '''lemma=WordNetLemmatizer()\n",
    "    for i in range(len(tmp)):\n",
    "        words=word_tokenize(tmp[i])\n",
    "        newword=[lemma.lemmatize(word) for word in words]\n",
    "        tmp[i]=' '.join(newword)\n",
    "    #print(tmp)\n",
    "    '''\n",
    "    plt.bar(polarity,subjectivity,label=\"Sentiment Analysis\")"
   ]
  },
  {
   "cell_type": "code",
   "execution_count": 44,
   "metadata": {},
   "outputs": [
    {
     "name": "stdout",
     "output_type": "stream",
     "text": [
      "Enter topic: pewdiepie\n",
      "[0.11481481481481481, 0.0, 0.0, 0.6, 0.0, 0.0, 0.6, 0.0, 0.0, 0.6]\n",
      "[0.262962962962963, 0.0, 0.0, 1.0, 0.0, 0.0, 1.0, 0.0, 0.0, 1.0]\n"
     ]
    },
    {
     "data": {
      "image/png": "[encoded data removed]",
      "text/plain": [
       "<Figure size 432x288 with 1 Axes>"
      ]
     },
     "metadata": {
      "needs_background": "light"
     },
     "output_type": "display_data"
    }
   ],
   "source": [
    "if __name__=='__main__':\n",
    "    data=input(\"Enter topic: \")\n",
    "get_tweets(data)"
   ]
  },
  {
   "cell_type": "code",
   "execution_count": 43,
   "metadata": {},
   "outputs": [
    {
     "data": {
      "text/plain": [
       "'\\nimport sys\\ntopic=sys.argv(1)  then run using python3 tweet.py virat\\n'"
      ]
     },
     "execution_count": 43,
     "metadata": {},
     "output_type": "execute_result"
    }
   ],
   "source": [
    "'''\n",
    "import sys\n",
    "topic=sys.argv(1)  then run using python3 tweet.py virat\n",
    "'''\n"
   ]
  },
  {
   "cell_type": "code",
   "execution_count": null,
   "metadata": {},
   "outputs": [],
   "source": []
  },
  {
   "cell_type": "code",
   "execution_count": null,
   "metadata": {},
   "outputs": [],
   "source": []
  }
 ],
 "metadata": {
  "kernelspec": {
   "display_name": "Python 3",
   "language": "python",
   "name": "python3"
  },
  "language_info": {
   "codemirror_mode": {
    "name": "ipython",
    "version": 3
   },
   "file_extension": ".py",
   "mimetype": "text/x-python",
   "name": "python",
   "nbconvert_exporter": "python",
   "pygments_lexer": "ipython3",
   "version": "3.5.2"
  }
 },
 "nbformat": 4,
 "nbformat_minor": 2
}
