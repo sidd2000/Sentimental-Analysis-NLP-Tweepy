{
 "cells": [
  {
   "cell_type": "code",
   "execution_count": 11,
   "metadata": {},
   "outputs": [],
   "source": [
    "import tweepy\n",
    "from nltk.tokenize import sent_tokenize\n",
    "from nltk.tokenize import word_tokenize\n",
    "from  nltk.stem import WordNetLemmatizer\n",
    "from  nltk.corpus   import  stopwords\n",
    "from textblob import TextBlob\n",
    "import matplotlib.pyplot as plt\n",
    "#import tkinter"
   ]
  },
  {
   "cell_type": "code",
   "execution_count": 2,
   "metadata": {},
   "outputs": [],
   "source": [
    "consumer_key=\"4wLmPjWk9lrrVBvJ8vrLOd7mw\"\n",
    "consumer_secret=\"coH45GqySYiQMdagJ2vlCSWuGw6g8oBC1SfaffzPSXE50xvg6c\"\n",
    "access_key=\"889506304225665024-R8JlY4yhbu5G9xRQl8A3Qh66aH5Xsgo\"\n",
    "access_secret=\"jUg8RcVbfbUOxSX4MSJA2BJ0MZ61x8JrC0EAkRWlDL6TO\""
   ]
  },
  {
   "cell_type": "code",
   "execution_count": 7,
   "metadata": {},
   "outputs": [],
   "source": [
    "def get_tweets(topic):\n",
    "    #authenticating twitter with consumer key and consumer  secret\n",
    "    auth=tweepy.OAuthHandler(consumer_key,consumer_secret)\n",
    "    #setting access token\n",
    "    auth.set_access_token(access_key,access_secret)\n",
    "    #connecting bssetting access tokenpi\n",
    "    api=tweepy.API(auth)\n",
    "    #number_of_tweets=50\n",
    "    tweets=api.search(q=topic,count=20,lang='en')\n",
    "    tmp=[]\n",
    "    polarity=[]\n",
    "    subjectivity=[]\n",
    "\n",
    "    tweets_for_csv=[tweet.text for tweet in tweets]\n",
    "    for j in tweets_for_csv:\n",
    "        tmp.append(j)\n",
    "    #print(\"Extracted tweets:\",tmp)\n",
    "    #print(\"####################################\")\n",
    "    \n",
    "    for j in tweets:\n",
    "        analize=TextBlob(j.text)\n",
    "        check=analize.sentiment\n",
    "        #print(check)\n",
    "        polarity.append(analize.sentiment[0])\n",
    "        subjectivity.append(analize.sentiment[1])\n",
    "        #lemmatization\n",
    "    #print(\"####################################\")\n",
    "    print(polarity)\n",
    "    print(subjectivity)\n",
    "    '''lemma=WordNetLemmatizer()\n",
    "    for i in range(len(tmp)):\n",
    "        words=word_tokenize(tmp[i])\n",
    "        newword=[lemma.lemmatize(word) for word in words]\n",
    "        tmp[i]=' '.join(newword)\n",
    "    #print(tmp)\n",
    "    '''\n",
    "    for i in range(1,len(polarity)+1):\n",
    "        if(polarity[i-1]>0):\n",
    "            plt.bar(i,polarity[i-1],color='b')\n",
    "        else:\n",
    "            plt.bar(i,polarity[i-1],color='g')\n",
    "    plt.xlabel(\"Number of tweets\")\n",
    "    plt.ylabel(\"Opinion of the tweet\")\n",
    "    plt.show()\n",
    "    for i in range(1,len(subjectivity)+1):\n",
    "        plt.bar(i,subjectivity[i-1],color='r')\n",
    "    plt.xlabel(\"Number of tweets\")\n",
    "    plt.ylabel(\"Subjectivity of the tweet\")\n",
    "    plt.show()"
   ]
  },
  {
   "cell_type": "code",
   "execution_count": 8,
   "metadata": {},
   "outputs": [
    {
     "name": "stdout",
     "output_type": "stream",
     "text": [
      "Enter topic: pewdiepie\n",
      "[0.13636363636363635, 0.0, 0.0, 0.06666666666666665, 0.0, 0.0, 0.02500000000000005, 0.0, 0.6, 0.25, 0.0, 0.75, 0.6, 0.13636363636363635, -0.15, 0.0, 0.25, 0.13636363636363635]\n",
      "[0.45454545454545453, 0.0, 0.0, 0.6749999999999999, 0.0, 0.0, 0.4916666666666667, 0.0, 1.0, 0.375, 0.0, 0.95, 1.0, 0.5, 0.4, 0.1625, 0.5, 0.45454545454545453]\n"
     ]
    },
    {
     "data": {
      "image/png": "[encoded data removed]",
      "text/plain": [
       "<Figure size 432x288 with 1 Axes>"
      ]
     },
     "metadata": {
      "needs_background": "light"
     },
     "output_type": "display_data"
    },
    {
     "data": {
      "image/png": "[encoded data removed]",
      "text/plain": [
       "<Figure size 432x288 with 1 Axes>"
      ]
     },
     "metadata": {
      "needs_background": "light"
     },
     "output_type": "display_data"
    }
   ],
   "source": [
    "if __name__=='__main__':\n",
    "    data=input(\"Enter topic: \")\n",
    "get_tweets(data)"
   ]
  },
  {
   "cell_type": "code",
   "execution_count": null,
   "metadata": {},
   "outputs": [],
   "source": []
  },
  {
   "cell_type": "code",
   "execution_count": null,
   "metadata": {},
   "outputs": [],
   "source": []
  },
  {
   "cell_type": "code",
   "execution_count": null,
   "metadata": {},
   "outputs": [],
   "source": []
  }
 ],
 "metadata": {
  "kernelspec": {
   "display_name": "Python 3",
   "language": "python",
   "name": "python3"
  },
  "language_info": {
   "codemirror_mode": {
    "name": "ipython",
    "version": 3
   },
   "file_extension": ".py",
   "mimetype": "text/x-python",
   "name": "python",
   "nbconvert_exporter": "python",
   "pygments_lexer": "ipython3",
   "version": "3.5.2"
  }
 },
 "nbformat": 4,
 "nbformat_minor": 2
}
